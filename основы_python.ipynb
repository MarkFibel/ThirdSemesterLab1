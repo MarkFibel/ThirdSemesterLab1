{
 "cells": [
  {
   "cell_type": "markdown",
   "metadata": {
    "id": "M-DGa20PaHnu"
   },
   "source": [
    "# Задача 1\n",
    "Написать функцию на вход которой подается строка, состоящая из латинских букв.\n",
    "Функция должна вернуть количество гласных букв (a, e, i, o, u) в этой строке. Написать тесты для кода"
   ]
  },
  {
   "cell_type": "code",
   "execution_count": 1,
   "metadata": {
    "id": "XvX8X_JJ6PCb",
    "tags": []
   },
   "outputs": [
    {
     "name": "stdout",
     "output_type": "stream",
     "text": [
      "1: True \n",
      "2: True \n",
      "3: True \n"
     ]
    }
   ],
   "source": [
    "def fnc(string: str) -> int:\n",
    "    count_letters = 0\n",
    "    for i in string:\n",
    "        if i in 'aeiou':\n",
    "            count_letters += 1\n",
    "    return count_letters\n",
    "\n",
    "ans = [4, 4, 3]\n",
    "test_data = ['adfagsefsefsdf', 'sdfefkmijeonf', 'kewnfnwididnvw']\n",
    "for i in range(3):\n",
    "    test = fnc(test_data[i])\n",
    "    if test == ans[i]:\n",
    "        print(f'{i + 1}: True ')"
   ]
  },
  {
   "cell_type": "markdown",
   "metadata": {
    "id": "t2ClV_Y0bbr6"
   },
   "source": [
    "# Задача 2\n",
    "Написать функцию на вход, которой подается строка. Функция должна вернуть true, если\n",
    "каждый символ в строке встречается только 1 раз, иначе должна вернуть false. Написать тесты для кода"
   ]
  },
  {
   "cell_type": "code",
   "execution_count": 2,
   "metadata": {
    "id": "FppbECao6VIz",
    "tags": []
   },
   "outputs": [
    {
     "name": "stdout",
     "output_type": "stream",
     "text": [
      "1 True\n",
      "2 True\n",
      "3 True\n"
     ]
    }
   ],
   "source": [
    "def fnc(string: str) -> bool:\n",
    "    if len(string) == len(list(set(string))):\n",
    "        return True\n",
    "    else:\n",
    "        return False\n",
    "\n",
    "ans = [True, False, False]\n",
    "test_data = ['asdfghjkl', 'aasdfghjkl', 'asdfgghjkla']\n",
    "\n",
    "for i in range(3):\n",
    "    if fnc(test_data[i]) == ans[i]:\n",
    "        print(f'{i + 1} True')\n",
    "    else:\n",
    "        print(f'{i + 1} False')"
   ]
  },
  {
   "cell_type": "markdown",
   "metadata": {
    "id": "udRiIK1cdt6E"
   },
   "source": [
    "# Задача 3\n",
    "Написать функцию, которая принимает положительное число и возвращает количество\n",
    "бит равных 1 в этом числе. Написать тесты для кода"
   ]
  },
  {
   "cell_type": "code",
   "execution_count": 3,
   "metadata": {
    "id": "6tkfDJRz6dp_",
    "tags": []
   },
   "outputs": [
    {
     "name": "stdout",
     "output_type": "stream",
     "text": [
      "1 True\n",
      "2 True\n",
      "3 True\n"
     ]
    }
   ],
   "source": [
    "def fnc(n: int) -> int:\n",
    "    return bin(n)[2:].count('1')\n",
    "\n",
    "ans = [7, 2, 6]\n",
    "test_data = [1_931, 3, 100_000]\n",
    "for i in range(3):\n",
    "    if fnc(test_data[i]) == ans[i]:\n",
    "        print(f'{i + 1} True')\n",
    "    else:\n",
    "        print(f'{i + 1} False')"
   ]
  },
  {
   "cell_type": "markdown",
   "metadata": {
    "id": "26dDUz-Ae17N"
   },
   "source": [
    "# Задача 4\n",
    "Написать функцию, которая принимает положительное число. Функция должна вернуть то,\n",
    "сколько раз необходимо перемножать цифры числа или результат перемножения, чтобы\n",
    "получилось число состоящее из одной цифры.\n",
    "Например, для входного числа:\n",
    "· 39 функция должна вернуть 3, так как 3*9=27 => 2*7=14 => 1*4=4\n",
    "· 4 функция должна вернуть 0, так как число уже состоит из одной цифры\n",
    "· 999 функция должна вернуть 4, так как 9*9*9=729 => 7*2*9=126 => 1*2*6=12 =>\n",
    "1*2=2. Написать тесты для кода"
   ]
  },
  {
   "cell_type": "code",
   "execution_count": 4,
   "metadata": {
    "id": "BH1A_Mgi6i4G",
    "tags": []
   },
   "outputs": [
    {
     "name": "stdout",
     "output_type": "stream",
     "text": [
      "1: True\n",
      "2: True\n",
      "3: True\n",
      "4: True\n",
      "5: True\n"
     ]
    }
   ],
   "source": [
    "def magic(n: int) -> int:\n",
    "    count = 0\n",
    "    while len(str(n)) > 1:\n",
    "        n = int(str(n)[:-2] + str((n % 10) * (n // 10 % 10)))\n",
    "        count += 1\n",
    "    return count\n",
    "\n",
    "test_data = [1, 12, 99, 193, 999]\n",
    "ans = [0, 1, 2, 4, 5]\n",
    "\n",
    "for i in range(5):\n",
    "    if magic(test_data[i]) == ans[i]:\n",
    "        print(f'{i + 1}: True')\n",
    "    else:\n",
    "        print(f'{i + 1}: False')"
   ]
  },
  {
   "cell_type": "markdown",
   "metadata": {
    "id": "0nS-kIa8g8vd"
   },
   "source": [
    "# Задача 5\n",
    "Написать функцию, которая принимает два целочисленных вектора одинаковой длины и\n",
    "возвращает среднеквадратическое отклонение двух векторов. Написать тесты для кода"
   ]
  },
  {
   "cell_type": "code",
   "execution_count": 5,
   "metadata": {
    "id": "8iphx4LM6xbx",
    "tags": []
   },
   "outputs": [
    {
     "name": "stdout",
     "output_type": "stream",
     "text": [
      "1.4142135623730951\n",
      "1.224744871391589\n",
      "29.829515584400628\n"
     ]
    }
   ],
   "source": [
    "def mse(pred: list, true: list) -> float:\n",
    "    differences = []\n",
    "    for i in range(len(pred)):\n",
    "        differences.append((pred[i] - true[i]) ** 2)\n",
    "    return (sum(differences) / len(differences)) ** 0.5\n",
    "\n",
    "test_data = [[[1, 5, 3], \n",
    "              [2, 4, 5]],\n",
    "             [[1, 5, 3, 6],\n",
    "              [1, 3, 2, 5]],\n",
    "             [[1, 3, 22, 66, 6],\n",
    "              [1, 5, 4, 2, 1]]]\n",
    "for i in range(3):\n",
    "    print(mse(*test_data[i]))"
   ]
  },
  {
   "cell_type": "markdown",
   "metadata": {
    "id": "vpIPKL439zkw"
   },
   "source": [
    "# Задача 6\n",
    "Написать функцию, принимающая целое положительное число. Функция должна вернуть\n",
    "строку вида “(n1**p1)(n2**p2)…(nk**pk)” представляющая разложение числа на простые\n",
    "множители (если pi == 1, то выводить только ni).\n",
    "Например, для числа 86240 функция должна вернуть “(2**5)(5)(7**2)(11)”. Написать тесты для кода"
   ]
  },
  {
   "cell_type": "code",
   "execution_count": 6,
   "metadata": {
    "id": "pFebmcZk94Jw",
    "tags": []
   },
   "outputs": [
    {
     "name": "stdout",
     "output_type": "stream",
     "text": [
      "1: True\n",
      "2: True\n",
      "3: True\n"
     ]
    }
   ],
   "source": [
    "def prime_factorization(n):\n",
    "    dct_factors = {}\n",
    "    a = int(n ** 0.5) + 1\n",
    "    p = [1] * a\n",
    "    p[0] = p[1] = 0\n",
    "\n",
    "    for i in range(2, a):\n",
    "        if p[i]:\n",
    "            for t in range(i * i, a, i):\n",
    "                p[t] = 0\n",
    "\n",
    "    for i in range(a):\n",
    "        if p[i]:\n",
    "            dct_factors[i] = 0\n",
    "            while n % i == 0:\n",
    "                n //= i\n",
    "                dct_factors[i] += 1\n",
    "\n",
    "    result = ''\n",
    "    for i in dct_factors.keys():\n",
    "        if dct_factors[i] > 1:\n",
    "            result += f'({i}**{dct_factors[i]})'\n",
    "        elif dct_factors[i] == 1:\n",
    "            result += f'({i})'\n",
    "    \n",
    "    return result\n",
    "test_data = [4_368, 84_084, 132_673_637]\n",
    "ans = ['(2**4)(3)(7)(13)',\n",
    "            '(2**2)(3)(7**2)(11)(13)',\n",
    "            '(19**3)(23)(29**2)']\n",
    "\n",
    "for i in range(3):\n",
    "    if prime_factorization(test_data[i]) == ans[i]:\n",
    "        print(f'{i + 1}: True')\n",
    "    else:\n",
    "        print(f'{i + 1}: False')"
   ]
  },
  {
   "cell_type": "markdown",
   "metadata": {
    "id": "ps2s0BudX7A2"
   },
   "source": [
    "# Задача 7\n",
    "Написать функцию, принимающая целое число n, задающее количество кубиков. Функция\n",
    "должна определить, можно ли из данного кол-ва кубиков построить пирамиду, то есть\n",
    "можно ли представить число n как 1^2+2^2+3^2+…+k^2. Если можно, то функция должна\n",
    "вернуть k, иначе строку “It is impossible”. Написать тесты для кода"
   ]
  },
  {
   "cell_type": "code",
   "execution_count": 7,
   "metadata": {
    "id": "3YPjEXxhX_YT",
    "tags": []
   },
   "outputs": [
    {
     "name": "stdout",
     "output_type": "stream",
     "text": [
      "1 True\n",
      "2 True\n",
      "3 True\n",
      "4 True\n"
     ]
    }
   ],
   "source": [
    "def pyramid(number: int) -> int|str:\n",
    "    k = 1\n",
    "    while number - k ** 2 > 0:\n",
    "        number -= k ** 2\n",
    "        k += 1\n",
    "    if number - k ** 2 == 0:\n",
    "        ans = k\n",
    "    else:\n",
    "        ans = 'It is impossible'\n",
    "    return ans\n",
    "\n",
    "ans = [3, 'It is impossible', 9, 'It is impossible']\n",
    "test_data = [14, 15, 285, 9009]\n",
    "\n",
    "for i in range(4):\n",
    "    if pyramid(test_data[i]) == ans[i]:\n",
    "        print(f'{i + 1} True')\n",
    "    else:\n",
    "        print(f'{i + 1} False')"
   ]
  },
  {
   "cell_type": "markdown",
   "metadata": {
    "id": "KeKgmIdAQMEJ"
   },
   "source": [
    "# Задача 8\n",
    "Функция принимает на вход положительное число и определяет является ли оно сбалансированным, т.е. сумма цифр до средних равна сумме цифр после. Средними в случае нечетного числа цифр считать одну цифру, в случае четного - две средних. Написать тесты для кода"
   ]
  },
  {
   "cell_type": "code",
   "execution_count": 8,
   "metadata": {
    "id": "gMAAqtqlQrZt",
    "tags": []
   },
   "outputs": [
    {
     "name": "stdout",
     "output_type": "stream",
     "text": [
      "1: True\n",
      "2: True\n",
      "3: True\n",
      "4: True\n"
     ]
    }
   ],
   "source": [
    "def fnc(a: int) -> bool:\n",
    "    str_a = str(a)\n",
    "    if len(str_a) % 2 == 0:\n",
    "        if sum(list(map(int, set(str_a[:len(str_a) // 2])))) == sum(list(map(int, set(str_a[len(str_a) // 2:])))):\n",
    "            return True\n",
    "    else:\n",
    "        if sum(list(map(int, set(str_a[:len(str_a) // 2])))) == sum(list(map(int, set(str_a[len(str_a) // 2 + 1:])))):\n",
    "            return True\n",
    "    return False\n",
    "\n",
    "ans = [True, False, True, False]\n",
    "test_data = [121, 221, 1234123, 12354123]\n",
    "\n",
    "for i in range(4):\n",
    "    if fnc(test_data[i]) == ans[i]:\n",
    "        print(f'{i + 1}: True')\n",
    "    else:\n",
    "        print(f'{i + 1}: False')"
   ]
  },
  {
   "cell_type": "code",
   "execution_count": 9,
   "metadata": {
    "tags": []
   },
   "outputs": [
    {
     "name": "stdout",
     "output_type": "stream",
     "text": [
      "On branch main\n",
      "Your branch is up to date with 'origin/main'.\n",
      "\n",
      "Untracked files:\n",
      "  (use \"git add <file>...\" to include in what will be committed)\n",
      "\t\u001b[31m.ipynb_checkpoints/\u001b[m\n",
      "\n",
      "nothing added to commit but untracked files present (use \"git add\" to track)\n"
     ]
    }
   ],
   "source": [
    "!git commit основы_python.ipynb"
   ]
  },
  {
   "cell_type": "code",
   "execution_count": null,
   "metadata": {},
   "outputs": [],
   "source": []
  }
 ],
 "metadata": {
  "colab": {
   "provenance": []
  },
  "kernelspec": {
   "display_name": "Python 3 (ipykernel)",
   "language": "python",
   "name": "python3"
  },
  "language_info": {
   "codemirror_mode": {
    "name": "ipython",
    "version": 3
   },
   "file_extension": ".py",
   "mimetype": "text/x-python",
   "name": "python",
   "nbconvert_exporter": "python",
   "pygments_lexer": "ipython3",
   "version": "3.11.5"
  }
 },
 "nbformat": 4,
 "nbformat_minor": 4
}
